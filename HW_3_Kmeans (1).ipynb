{
  "nbformat": 4,
  "nbformat_minor": 0,
  "metadata": {
    "colab": {
      "provenance": []
    },
    "kernelspec": {
      "name": "python3",
      "display_name": "Python 3"
    },
    "language_info": {
      "name": "python"
    }
  },
  "cells": [
    {
      "cell_type": "code",
      "execution_count": null,
      "metadata": {
        "id": "F3wd5ub7mu0f"
      },
      "outputs": [],
      "source": [
        "import numpy as np\n",
        "import pandas as pd\n",
        "import scipy \n",
        "import sklearn\n",
        "from collections import Counter\n",
        "from sklearn.metrics import multilabel_confusion_matrix\n",
        "from scipy import spatial"
      ]
    },
    {
      "cell_type": "code",
      "source": [
        "data = pd.read_csv(r\"/data.csv\",header=None)"
      ],
      "metadata": {
        "id": "gLH0aticnC__"
      },
      "execution_count": null,
      "outputs": []
    },
    {
      "cell_type": "code",
      "source": [
        "labels = pd.read_csv(r\"/label.csv\",names=['label'],header=None)"
      ],
      "metadata": {
        "id": "WayM5UqtnNHh"
      },
      "execution_count": null,
      "outputs": []
    },
    {
      "cell_type": "code",
      "source": [
        "train_data = data.iloc[:8000]\n",
        "test_data = data.iloc[8000:]\n",
        "train_labels = labels.iloc[:8000]\n",
        "test_labels = labels.iloc[8000:]"
      ],
      "metadata": {
        "id": "vazKRWfSnOMK"
      },
      "execution_count": null,
      "outputs": []
    },
    {
      "cell_type": "code",
      "source": [
        "class KMeans:\n",
        "    \n",
        "    def calculate_SSE(self, centroid_value_dict, centroid_dict,data):\n",
        "        #centroid_value_dict - dictionary of centroids\n",
        "        #centroid_dict - dict of centroids keys and data points indexes\n",
        "        sse_data = 0\n",
        "        for i in centroid_dict:\n",
        "            sse_cluster = 0\n",
        "            # np.sum()\n",
        "            for j in centroid_dict[i]:\n",
        "                dp = list(data.iloc[int(j)])\n",
        "                for a,b in zip(centroid_value_dict[i],dp):\n",
        "                    sse_cluster += (a-b)**2\n",
        "            sse_data+=sse_cluster\n",
        "        return sse_data    \n",
        "    \n",
        "    def Initialize_Centroids(self,data,K):\n",
        "        m = data.shape[0]\n",
        "        centroid_value_dict={}\n",
        "        for i in range(K):\n",
        "            r = np.random.randint(0, m-1)\n",
        "            centroid_value_dict[i] = data.iloc[r]\n",
        "        return centroid_value_dict\n",
        "        #return centroid_list,centroid_dict\n",
        "    \n",
        "    def jaccard_similarity(self,centroid, dp):\n",
        "        intersection = len(list(set(centroid).intersection(dp)))\n",
        "        union = (len(set(centroid)) + len(set(dp))) - intersection\n",
        "        return float(intersection) / union\n",
        "\n",
        "    def train_Kmeans(self,data,K,max_iter=20,mode=1,tol=10):\n",
        "        #Mode = 1 => Euclidean np.linalg.norm(x-list(data.iloc[i,:]))\n",
        "        #Mode = 2 => Jaccard\n",
        "        #Mode = 3 => Cosine\n",
        "        centroid_value_dict = self.Initialize_Centroids(data,K)\n",
        "        new_centroid_value_dict = {}\n",
        "        count = 0\n",
        "        centroid_dict = {}\n",
        "        convergence = False\n",
        "        while((count<max_iter) and not convergence):\n",
        "            \n",
        "            for i in list(centroid_value_dict.keys()):\n",
        "                centroid_dict[i]=[]\n",
        "            for i in range(data.shape[0]):\n",
        "                x = data.iloc[i]\n",
        "                if mode==1 :\n",
        "                    distance_measure = [np.linalg.norm(x-centroid_value_dict[j])  for j in centroid_value_dict]\n",
        "                    idx = np.argmin(distance_measure)\n",
        "                    centroid_dict[idx].append(i)\n",
        "                elif mode==2 :\n",
        "                    distance_measure = [self.jaccard_similarity(list(x),centroid_value_dict[j]) for j in centroid_value_dict]\n",
        "                    idx = np.argmax(distance_measure)\n",
        "                    centroid_dict[idx].append(i)\n",
        "                elif mode==3 :\n",
        "                    distance_measure = [1-scipy.spatial.distance.cosine(x,list(centroid_value_dict[j]))  for j in centroid_value_dict]\n",
        "                    idx = np.argmax(distance_measure)\n",
        "                    centroid_dict[idx].append(i)\n",
        "                \n",
        "                prev_centroids=dict(centroid_value_dict)\n",
        "                \n",
        "            \n",
        "            for i in centroid_dict:\n",
        "                if len(centroid_dict[i]):\n",
        "                    # print(centroid_dict[i])\n",
        "                    dps_centroid = centroid_dict[i]\n",
        "                    centroid_value_dict[i] = np.average(data.iloc[dps_centroid],axis=0)\n",
        "                    #new_centroid = np.zeros(shape = (data.shape[1],))\n",
        "                    # for j in (temp_dict[i]).astype('int'):\n",
        "                    #     new_centroid = [new_centroid[i]+list(data.iloc[j,:])[i] for i in range(0,len(list(new_centroid)))]\n",
        "                    # new_centroid = [int(c/len(temp_dict[i])) for c in new_centroid]\n",
        "                    \n",
        "                # print(i)\n",
        "            \n",
        "            \n",
        "            current_tol=-1\n",
        "            for i in centroid_value_dict:\n",
        "                prev_centroid_point = prev_centroids[i]\n",
        "                new_centroid_point = centroid_value_dict[i]\n",
        "                change = np.sum(np.absolute(new_centroid_point-prev_centroid_point))\n",
        "                current_tol = max(change, current_tol)\n",
        "                \n",
        "            print(\"Iteration \",count,\": \",current_tol)\n",
        "                \n",
        "                # lst=[]\n",
        "                # for j in range(0,len(list(centroid_value_dict[i]))):\n",
        "                #     if centroid_value_dict[i][j]!=0:\n",
        "                #         # dummy = (centroid_value_dict[i])\n",
        "                #         lst.append((int(new_centroid_value_dict[i][j])-centroid_value_dict[i][j])/centroid_value_dict[i][j])*100\n",
        "                #     else:\n",
        "                #         lst.append(0)\n",
        "                # g += np.sum(lst)/len(new_centroid_value_dict[i])\n",
        "            # change = g/len(new_centroid_value_dict)\n",
        "            # if change<10:\n",
        "            #     break\n",
        "            # centroid_value_dict =  new_centroid_value_dict\n",
        "            \n",
        "            count+=1\n",
        "            if (current_tol<10):\n",
        "                convergence = True\n",
        "                break\n",
        "           # print(\"KMeans Iteration\",count)\n",
        "        return centroid_value_dict,centroid_dict\n",
        "    "
      ],
      "metadata": {
        "id": "oGnZFtrDnYzI"
      },
      "execution_count": null,
      "outputs": []
    },
    {
      "cell_type": "code",
      "source": [
        "def predict_cluster_labels(C, S, labels):\n",
        "    '''\n",
        "    Input : C -> Centroids\n",
        "            S -> Set of Indicies corresponding to Centroid C\n",
        "            data -> Data used to form clusters\n",
        "    Output : Returns an array of size K having labels based on majority voting in the cluster\n",
        "    '''\n",
        "    cluster_labels = np.zeros(10,dtype=int)\n",
        "    for c in C:\n",
        "        labels_of_points = []\n",
        "        for point in S[c]:\n",
        "            labels_of_points.extend(labels.iloc[point])\n",
        "        counter = Counter(labels_of_points)\n",
        "        try:\n",
        "            cluster_labels[c] = max(counter, key=counter.get)\n",
        "        except:\n",
        "            cluster_labels[c] = np.random.randint(0,9)\n",
        "    return cluster_labels"
      ],
      "metadata": {
        "id": "JsUtJRhZncbU"
      },
      "execution_count": null,
      "outputs": []
    },
    {
      "cell_type": "code",
      "source": [
        "def jaccard_similarity(centroid, dp):\n",
        "        intersection = len(list(set(centroid).intersection(dp)))\n",
        "        union = (len(set(centroid)) + len(set(dp))) - intersection\n",
        "        return float(intersection) / union"
      ],
      "metadata": {
        "id": "JrNaJmjzs7JQ"
      },
      "execution_count": null,
      "outputs": []
    },
    {
      "cell_type": "code",
      "source": [
        "def accuracy(centroids, centroid_Labels, test_data, true_labels, mode=1):\n",
        "    y_true = list(true_labels['label']);\n",
        "    y_pred = []\n",
        "    for index in range(test_data.shape[0]):\n",
        "        featureset = test_data.iloc[index]\n",
        "        if mode==1:\n",
        "            distances = [np.linalg.norm(featureset - centroids[centroid]) for centroid in centroids]\n",
        "            classification = distances.index(min(distances))\n",
        "            y_pred.append(centroid_Labels[classification])\n",
        "        elif mode==3:\n",
        "            similarity = [1 - spatial.distance.cosine(featureset, centroids[centroid]) for centroid in centroids]\n",
        "            classification = similarity.index(max(similarity))\n",
        "            y_pred.append(centroid_Labels[classification])\n",
        "        elif mode==2:\n",
        "            similarity = [jaccard_similarity(featureset, centroids[centroid]) for centroid in centroids]\n",
        "            classification = similarity.index(max(similarity))\n",
        "            y_pred.append(centroid_Labels[classification])\n",
        "    denominator = test_data.shape[0]\n",
        "    correctly_classified = 0\n",
        "    for i in range(0,len(y_pred)):\n",
        "        if y_true[i] == y_pred[i]:\n",
        "            correctly_classified += 1\n",
        "    accuracy = correctly_classified/denominator\n",
        "    return accuracy"
      ],
      "metadata": {
        "id": "NxVeKTtUs96G"
      },
      "execution_count": null,
      "outputs": []
    },
    {
      "cell_type": "code",
      "source": [
        "model1 = KMeans()\n",
        "centroids1,clusters1 = model1.train_Kmeans(data,10, max_iter=100,mode=1)\n",
        "Euclidean_SSE = model1.calculate_SSE(centroids1,clusters1,data)\n",
        "print(\"Euclidean SSE for the dataset is:\",Euclidean_SSE)"
      ],
      "metadata": {
        "colab": {
          "base_uri": "https://localhost:8080/"
        },
        "id": "yMvcab2ftAEr",
        "outputId": "08739c04-2efc-4b74-f2f0-28ca8c3adcd7"
      },
      "execution_count": null,
      "outputs": [
        {
          "output_type": "stream",
          "name": "stdout",
          "text": [
            "Iteration  0 :  24471.586572438166\n",
            "Iteration  1 :  4388.169079515989\n",
            "Iteration  2 :  4040.388509377869\n",
            "Iteration  3 :  3533.597619592584\n",
            "Iteration  4 :  3569.8033340677093\n",
            "Iteration  5 :  2083.96049958738\n",
            "Iteration  6 :  954.6023243919072\n",
            "Iteration  7 :  850.1320945207674\n",
            "Iteration  8 :  750.9980112591961\n",
            "Iteration  9 :  542.9392821231057\n",
            "Iteration  10 :  526.7875635439364\n",
            "Iteration  11 :  458.3710273805158\n",
            "Iteration  12 :  502.7054197875092\n",
            "Iteration  13 :  411.3728179551121\n",
            "Iteration  14 :  326.2996271010213\n",
            "Iteration  15 :  266.58329223730743\n",
            "Iteration  16 :  289.3805508055078\n",
            "Iteration  17 :  265.14079960001607\n",
            "Iteration  18 :  211.3367203443604\n",
            "Iteration  19 :  205.78938081693215\n",
            "Iteration  20 :  284.563022817668\n",
            "Iteration  21 :  287.9812506871908\n",
            "Iteration  22 :  180.35506230529603\n",
            "Iteration  23 :  134.62253134796242\n",
            "Iteration  24 :  136.35144184613173\n",
            "Iteration  25 :  121.90191851657978\n",
            "Iteration  26 :  105.16645649432544\n",
            "Iteration  27 :  113.73765727724404\n",
            "Iteration  28 :  153.72574233426246\n",
            "Iteration  29 :  133.76517353352142\n",
            "Iteration  30 :  156.36683481511062\n",
            "Iteration  31 :  157.3611065206395\n",
            "Iteration  32 :  207.75344873241482\n",
            "Iteration  33 :  147.60773757419042\n",
            "Iteration  34 :  122.4981485905401\n",
            "Iteration  35 :  88.35341601183343\n",
            "Iteration  36 :  83.77093495267796\n",
            "Iteration  37 :  106.68152664536683\n",
            "Iteration  38 :  90.09419260101369\n",
            "Iteration  39 :  109.34217777566633\n",
            "Iteration  40 :  37.624938635248014\n",
            "Iteration  41 :  34.746128893337456\n",
            "Iteration  42 :  56.023678975988325\n",
            "Iteration  43 :  62.8104237920413\n",
            "Iteration  44 :  54.05767427667203\n",
            "Iteration  45 :  64.59159387977604\n",
            "Iteration  46 :  83.13072673183156\n",
            "Iteration  47 :  58.8043956043956\n",
            "Iteration  48 :  34.314350564054976\n",
            "Iteration  49 :  0.0\n",
            "Euclidean SSE for the dataset is: 25504035980.049934\n"
          ]
        }
      ]
    },
    {
      "cell_type": "code",
      "source": [
        "cluster_labels1 = predict_cluster_labels(centroids1,clusters1,labels)\n",
        "cluster_labels1"
      ],
      "metadata": {
        "colab": {
          "base_uri": "https://localhost:8080/"
        },
        "id": "ktdAA4xDtTk1",
        "outputId": "c84ba296-8c44-475d-9e02-40c3f9248906"
      },
      "execution_count": null,
      "outputs": [
        {
          "output_type": "execute_result",
          "data": {
            "text/plain": [
              "array([7, 6, 8, 4, 3, 9, 0, 5, 1, 2])"
            ]
          },
          "metadata": {},
          "execution_count": 10
        }
      ]
    },
    {
      "cell_type": "code",
      "source": [
        "Accuracy_Euclidean = accuracy(centroids1,cluster_labels1,test_data,test_labels)\n",
        "Accuracy_Euclidean"
      ],
      "metadata": {
        "colab": {
          "base_uri": "https://localhost:8080/"
        },
        "id": "MPsfkE0DtW2w",
        "outputId": "572c6f56-1437-4a7e-f3e8-ec81316a49af"
      },
      "execution_count": null,
      "outputs": [
        {
          "output_type": "execute_result",
          "data": {
            "text/plain": [
              "0.6405"
            ]
          },
          "metadata": {},
          "execution_count": 11
        }
      ]
    },
    {
      "cell_type": "code",
      "source": [
        "model2 = KMeans()\n",
        "centroids2,clusters2 = model2.train_Kmeans(data, 10, max_iter=100, mode=2)\n",
        "Jaccard_SSE = model2.calculate_SSE(centroids2, clusters2, data)\n",
        "print(\"Jacard SSE for the dataset is:\",Jaccard_SSE)"
      ],
      "metadata": {
        "colab": {
          "base_uri": "https://localhost:8080/"
        },
        "id": "26qBVdYstYrA",
        "outputId": "0b2a7221-b85b-4118-df36-dfdcb5b34e99"
      },
      "execution_count": null,
      "outputs": [
        {
          "output_type": "stream",
          "name": "stdout",
          "text": [
            "Iteration  0 :  35441.393584742094\n",
            "Iteration  1 :  4881.077687376726\n",
            "Iteration  2 :  2703.0767786350148\n",
            "Iteration  3 :  1823.6830998296423\n",
            "Iteration  4 :  2353.159906227106\n",
            "Iteration  5 :  1594.9570998914223\n",
            "Iteration  6 :  1331.0235785123964\n",
            "Iteration  7 :  943.6506911242603\n",
            "Iteration  8 :  1295.2330476190477\n",
            "Iteration  9 :  986.3542436755093\n",
            "Iteration  10 :  946.7687087566221\n",
            "Iteration  11 :  727.2016814350128\n",
            "Iteration  12 :  0.0\n",
            "Jacard SSE for the dataset is: 34364573698.62264\n"
          ]
        }
      ]
    },
    {
      "cell_type": "code",
      "source": [
        "cluster_labels2 = predict_cluster_labels(centroids2,clusters2,labels)\n",
        "cluster_labels2"
      ],
      "metadata": {
        "colab": {
          "base_uri": "https://localhost:8080/"
        },
        "id": "hGnRAhestagn",
        "outputId": "490dfd05-983f-47a2-ea53-e8271d1246cc"
      },
      "execution_count": null,
      "outputs": [
        {
          "output_type": "execute_result",
          "data": {
            "text/plain": [
              "array([1, 4, 7, 4, 7, 8, 0, 1, 3, 5])"
            ]
          },
          "metadata": {},
          "execution_count": 13
        }
      ]
    },
    {
      "cell_type": "code",
      "source": [
        "Accuracy_Jaccard = accuracy(centroids2, cluster_labels2,test_data,test_labels)\n",
        "Accuracy_Jaccard"
      ],
      "metadata": {
        "colab": {
          "base_uri": "https://localhost:8080/"
        },
        "id": "4O_WkiPutcf6",
        "outputId": "3db57faa-d63c-40ef-d7b9-b53cf36c80f2"
      },
      "execution_count": null,
      "outputs": [
        {
          "output_type": "execute_result",
          "data": {
            "text/plain": [
              "0.115"
            ]
          },
          "metadata": {},
          "execution_count": 14
        }
      ]
    },
    {
      "cell_type": "code",
      "source": [
        "model3 = KMeans()\n",
        "centroids3,clusters3 = model3.train_Kmeans(data,10,max_iter = 100,mode=3)\n",
        "Cosine_SSE = model3.calculate_SSE(centroids3,clusters3,data)\n",
        "print(\"Cosine SSE for the dataset is:\",Cosine_SSE)"
      ],
      "metadata": {
        "colab": {
          "base_uri": "https://localhost:8080/"
        },
        "id": "WIDm8cErteIW",
        "outputId": "b0fbb399-8c6f-4ce8-f5ed-24ef48e7e534"
      },
      "execution_count": null,
      "outputs": [
        {
          "output_type": "stream",
          "name": "stdout",
          "text": [
            "Iteration  0 :  32631.48867411658\n",
            "Iteration  1 :  6011.097207493814\n",
            "Iteration  2 :  3619.1145239523953\n",
            "Iteration  3 :  2463.4904009317615\n",
            "Iteration  4 :  1404.1697091451065\n",
            "Iteration  5 :  1013.1574584359608\n",
            "Iteration  6 :  898.8524897997031\n",
            "Iteration  7 :  863.3270994806065\n",
            "Iteration  8 :  855.1223855878907\n",
            "Iteration  9 :  999.8725445598532\n",
            "Iteration  10 :  793.0892960453416\n",
            "Iteration  11 :  898.0705800398152\n",
            "Iteration  12 :  769.001732441326\n",
            "Iteration  13 :  567.5753508582255\n",
            "Iteration  14 :  528.2218391353249\n",
            "Iteration  15 :  412.4727085502962\n",
            "Iteration  16 :  307.3772685638519\n",
            "Iteration  17 :  227.12512360648208\n",
            "Iteration  18 :  184.68844221105502\n",
            "Iteration  19 :  168.57688079539952\n",
            "Iteration  20 :  139.9127302837585\n",
            "Iteration  21 :  148.39675469936907\n",
            "Iteration  22 :  113.2345574459374\n",
            "Iteration  23 :  125.3568665287645\n",
            "Iteration  24 :  150.1460634382634\n",
            "Iteration  25 :  185.73256620157895\n",
            "Iteration  26 :  233.80770913711967\n",
            "Iteration  27 :  224.03047925982221\n",
            "Iteration  28 :  194.97067559356432\n",
            "Iteration  29 :  215.06729490250945\n",
            "Iteration  30 :  143.01116912231026\n",
            "Iteration  31 :  106.84872810906641\n",
            "Iteration  32 :  68.43931603957319\n",
            "Iteration  33 :  62.10090875323168\n",
            "Iteration  34 :  69.71843657871274\n",
            "Iteration  35 :  50.39075133254717\n",
            "Iteration  36 :  56.33869731800776\n",
            "Iteration  37 :  26.73447223295147\n",
            "Iteration  38 :  66.26682383885043\n",
            "Iteration  39 :  97.8565281415865\n",
            "Iteration  40 :  108.08922123474042\n",
            "Iteration  41 :  115.18256922336562\n",
            "Iteration  42 :  119.04326923076917\n",
            "Iteration  43 :  87.56274825840646\n",
            "Iteration  44 :  98.69932756964445\n",
            "Iteration  45 :  139.42996915338688\n",
            "Iteration  46 :  106.15491355576043\n",
            "Iteration  47 :  113.03358925143954\n",
            "Iteration  48 :  69.50605295300714\n",
            "Iteration  49 :  69.04333365322665\n",
            "Iteration  50 :  65.10934663763595\n",
            "Iteration  51 :  65.7727892341596\n",
            "Iteration  52 :  61.87911193685925\n",
            "Iteration  53 :  75.48382647226998\n",
            "Iteration  54 :  47.976198963677604\n",
            "Iteration  55 :  71.43057727328318\n",
            "Iteration  56 :  30.767558228981358\n",
            "Iteration  57 :  0.0\n",
            "Cosine SSE for the dataset is: 25683025862.665646\n"
          ]
        }
      ]
    },
    {
      "cell_type": "code",
      "source": [
        "cluster_labels3 = predict_cluster_labels(centroids3,clusters3,labels)\n",
        "cluster_labels3"
      ],
      "metadata": {
        "colab": {
          "base_uri": "https://localhost:8080/"
        },
        "id": "GaKHnvDItjGH",
        "outputId": "e05ff922-2f50-47f7-ec9d-f34a879cd3dd"
      },
      "execution_count": null,
      "outputs": [
        {
          "output_type": "execute_result",
          "data": {
            "text/plain": [
              "array([1, 8, 0, 7, 6, 3, 4, 0, 8, 1])"
            ]
          },
          "metadata": {},
          "execution_count": 16
        }
      ]
    },
    {
      "cell_type": "code",
      "source": [
        "Accuracy_Cosine = accuracy(centroids3, cluster_labels3,test_data,test_labels)\n",
        "Accuracy_Cosine"
      ],
      "metadata": {
        "colab": {
          "base_uri": "https://localhost:8080/"
        },
        "id": "HUecEVs_tkcY",
        "outputId": "73a740bd-e1c7-47e8-cab9-ffdde858ef7e"
      },
      "execution_count": null,
      "outputs": [
        {
          "output_type": "execute_result",
          "data": {
            "text/plain": [
              "0.5765"
            ]
          },
          "metadata": {},
          "execution_count": 17
        }
      ]
    },
    {
      "cell_type": "code",
      "source": [],
      "metadata": {
        "id": "wk_7VRNOEJP4"
      },
      "execution_count": null,
      "outputs": []
    }
  ]
}